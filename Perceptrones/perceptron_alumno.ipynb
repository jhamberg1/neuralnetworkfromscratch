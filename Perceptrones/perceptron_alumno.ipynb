{
 "cells": [
  {
   "cell_type": "markdown",
   "metadata": {},
   "source": [
    "### Actividad de perceptrón y perceptrón multicapa\n",
    "#### Autor: Francisco Serradilla\n",
    "\n",
    "Tareas:\n",
    "\n",
    "- Escribir el código de propagación y actualización de pesos del perceptrón.\n",
    "- Escribir el código de propagación y actualización de pesos del perceptrón multicapa para una capa oculta.\n",
    "- Probar el correcto funcionamiento con OR y con XOR.\n",
    "- Probar el correcto funcionamiento para las distribuciones generadas en el notebook. Dibujar los resultados.\n",
    "\n",
    "Opcional:\n",
    "- Problema de clasificación de orquídeas.\n",
    "- Ampliar el código del perceptrón Multicapa para calcular el error de test usando otro conjunto de datos. Este error de test se irá mostrando a la vez que el error de entrenamiento mientras la red se entrena.\n",
    "- Probar entrenamiento y cálculo del error de test con el juego de datos de aprobados.\n",
    "- (hacer al menos dos) Probar con problemas adicionales (circulo, fun, morosos, quinielas). Al final hay una explicación de los conjuntos de datos suministrados.\n",
    "- (opcional) Añadir una segunda capa oculta al perceptrón multacapa y/o un múmero indefinido de capas."
   ]
  },
  {
   "cell_type": "code",
   "execution_count": 2,
   "metadata": {},
   "outputs": [],
   "source": [
    "import numpy as np\n",
    "\n",
    "class Perceptron:\n",
    "    def __init__(self, ninput, noutput):\n",
    "        self.ninput = ninput # número de entradas\n",
    "        self.noutput = noutput # número de salidas\n",
    "        self.w = np.random.rand(ninput,noutput)-0.5 # pesos\n",
    "        self.b = np.random.rand(noutput)-0.5 # bias\n",
    "    \n",
    "    def step (self, x): # función de activación\n",
    "        return np.where(x<0,0,1) \n",
    "\n",
    "    def forward (self, x): # propaga un vector x y devuelve la salida\n",
    "        z = np.dot(x, self.w) + self.b \n",
    "        return self.step(z)\n",
    "    \n",
    "    def update (self, x, d, alpha): # realiza una iteración de entrenamiento\n",
    "        s = self.forward(x) # propaga\n",
    "        self.w = self.w - alpha*np.outer(x,s-d) # ajusta pesos\n",
    "        self.b = self.b - alpha*(s-d)\n",
    "        \n",
    "    def RMS (self, X, D): # calcula el error RMS\n",
    "        S = self.forward(X)\n",
    "        return np.mean(np.sqrt(np.mean(np.square(S-D),axis=1)))\n",
    "        \n",
    "    def accuracy (self, X, D): # calcula el ratio de aciertos\n",
    "        S = self.forward(X)\n",
    "        errors = np.mean(np.abs(D-S))\n",
    "        return 1.0 - errors\n",
    "    \n",
    "    def info (self, X, D): # traza de cómno va el entrenamiento\n",
    "        print(f'RMS: {self.RMS(X,D):.4f}')\n",
    "        print(f'Accuracy: {self.accuracy(X,D):.4f}')\n",
    "        \n",
    "    def train (self, X, D, alpha, epochs, trace=0): # entrena usando update\n",
    "        for e in range(1,epochs+1): # para cada epoch\n",
    "            for i in range(len(X)): # para cada ejemplo\n",
    "                self.update(X[i],D[i], alpha)\n",
    "            if trace!=0 and e%trace == 0: # imprime trazas\n",
    "                print('\\n   Epoch: %d' % e)\n",
    "                self.info(X,D)"
   ]
  },
  {
   "cell_type": "code",
   "execution_count": 3,
   "metadata": {},
   "outputs": [
    {
     "name": "stdout",
     "output_type": "stream",
     "text": [
      "\n",
      "   Epoch: 10\n",
      "RMS: 0.2500\n",
      "Accuracy: 0.7500\n",
      "\n",
      "   Epoch: 20\n",
      "RMS: 0.0000\n",
      "Accuracy: 1.0000\n",
      "\n",
      "   Epoch: 30\n",
      "RMS: 0.0000\n",
      "Accuracy: 1.0000\n",
      "\n",
      "   Epoch: 40\n",
      "RMS: 0.0000\n",
      "Accuracy: 1.0000\n",
      "\n",
      "   Epoch: 50\n",
      "RMS: 0.0000\n",
      "Accuracy: 1.0000\n",
      "RMS: 0.0000\n",
      "Accuracy: 1.0000\n"
     ]
    },
    {
     "data": {
      "text/plain": [
       "(array([[0.13284134],\n",
       "        [0.10540879]]),\n",
       " array([-0.05417383]))"
      ]
     },
     "execution_count": 3,
     "metadata": {},
     "output_type": "execute_result"
    }
   ],
   "source": [
    "# entrena para la OR\n",
    "\n",
    "p = Perceptron(ninput=2,noutput=1)\n",
    "\n",
    "# or\n",
    "data = np.array([[0.0, 0.0], [0.0, 1.0], [1.0, 0.0], [1.0, 1.0]])\n",
    "labels = np.array([[0.0], [1.0], [1.0], [1.0]])\n",
    "\n",
    "p.train(data, labels, alpha=0.1, epochs=50, trace=10)\n",
    "p.info(data, labels)\n",
    "p.w, p.b"
   ]
  },
  {
   "cell_type": "code",
   "execution_count": 4,
   "metadata": {},
   "outputs": [],
   "source": [
    "class Multilayer:\n",
    "    def __init__(self, ninput, nhidden, noutput):\n",
    "        '''\n",
    "        ninput: número de neuronas de entrada\n",
    "        nhidden: número de neuronas ocultas\n",
    "        noutput: número de neuronas de salida\n",
    "        '''\n",
    "        self.ninput = ninput # número de entradas\n",
    "        self.nhidden = nhidden # número de neuronas en capa oculta\n",
    "        self.noutput = noutput # número de salidas\n",
    "\n",
    "        # pesos y bías de la capa 1\n",
    "        self.w1 = np.random.rand(ninput,nhidden)-0.5\n",
    "        self.b1 = np.random.rand(nhidden)-0.5\n",
    "        # pesos y bías de la capa 2\n",
    "        self.w2 = np.random.rand(nhidden,noutput)-0.5\n",
    "        self.b2 = np.random.rand(noutput)-0.5\n",
    "        \n",
    "        self.lRMS = [] # contiene la lista de RMSs para pintarlos luego\n",
    "        self.laccuracy = [] # contiene la lista de accuracy para pintar luego\n",
    "\n",
    "    def sigm (self, neta): # función sigmoidal\n",
    "        return 1.0 / (1.0 + np.exp(-neta))\n",
    "    \n",
    "    def forward (self, x): # propaga un vector x y devuelve la salida\n",
    "        pass # a implementar\n",
    "    \n",
    "    def update (self, x, d, alpha): # realiza una iteración de entrenamiento\n",
    "        pass # a implementar\n",
    "    \n",
    "    def RMS (self, X, D): # error RMS\n",
    "        S = self.forward(X)\n",
    "        return np.mean(np.sqrt(np.mean(np.square(S-D),axis=1)))\n",
    "        \n",
    "    def accuracy (self, X, D): # calcula ratio de aciertos\n",
    "        S = self.forward(X)\n",
    "        S = np.round(S)\n",
    "        errors = np.mean(np.abs(D-S))\n",
    "        return 1.0 - errors\n",
    "    \n",
    "    def info (self, X, D): # escribe traza\n",
    "        self.lRMS.append(self.RMS(X,D))\n",
    "        self.laccuracy.append(self.accuracy(X,D))\n",
    "        print('     RMS: %6.5f' % self.lRMS[-1])\n",
    "        print('Accuracy: %6.5f' % self.laccuracy[-1])\n",
    "        \n",
    "    def train (self, X, D, alpha, epochs, trace=0): # entrena usando update\n",
    "        self.lRMS = [] # guarda lista de RMSs para pintarlos\n",
    "        self.laccuracy = [] # guarda lista de accuracy\n",
    "\n",
    "        for e in range(1,epochs+1): # para cada epoch\n",
    "            for i in range(len(X)): # para cada ejemplo\n",
    "                self.update(X[i],D[i], alpha)\n",
    "            if trace!=0 and e%trace == 0: # escribe traza si corresponde\n",
    "                print('\\n   Epoch: %d' % e)\n",
    "                self.info(X,D)\n",
    "                \n",
    "def one_hot (d): # codificación one_hot\n",
    "    num_classes = len(set(d))\n",
    "    rows = d.shape[0]\n",
    "    labels = np.zeros((rows, num_classes), dtype='float32')\n",
    "    labels[np.arange(rows),d.T] = 1\n",
    "    return labels"
   ]
  },
  {
   "cell_type": "code",
   "execution_count": 8,
   "metadata": {},
   "outputs": [
    {
     "ename": "TypeError",
     "evalue": "unsupported operand type(s) for -: 'NoneType' and 'float'",
     "output_type": "error",
     "traceback": [
      "\u001b[1;31m---------------------------------------------------------------------------\u001b[0m",
      "\u001b[1;31mTypeError\u001b[0m                                 Traceback (most recent call last)",
      "Cell \u001b[1;32mIn[8], line 7\u001b[0m\n\u001b[0;32m      3\u001b[0m labels \u001b[38;5;241m=\u001b[39m np\u001b[38;5;241m.\u001b[39marray([[\u001b[38;5;241m0.0\u001b[39m], [\u001b[38;5;241m1.0\u001b[39m], [\u001b[38;5;241m1.0\u001b[39m], [\u001b[38;5;241m0.0\u001b[39m]])\n\u001b[0;32m      5\u001b[0m p \u001b[38;5;241m=\u001b[39m Multilayer(\u001b[38;5;241m2\u001b[39m,\u001b[38;5;241m2\u001b[39m,\u001b[38;5;241m1\u001b[39m)\n\u001b[1;32m----> 7\u001b[0m p\u001b[38;5;241m.\u001b[39minfo(data, labels)\n",
      "Cell \u001b[1;32mIn[4], line 42\u001b[0m, in \u001b[0;36mMultilayer.info\u001b[1;34m(self, X, D)\u001b[0m\n\u001b[0;32m     41\u001b[0m \u001b[38;5;28;01mdef\u001b[39;00m \u001b[38;5;21minfo\u001b[39m (\u001b[38;5;28mself\u001b[39m, X, D): \u001b[38;5;66;03m# escribe traza\u001b[39;00m\n\u001b[1;32m---> 42\u001b[0m     \u001b[38;5;28mself\u001b[39m\u001b[38;5;241m.\u001b[39mlRMS\u001b[38;5;241m.\u001b[39mappend(\u001b[38;5;28mself\u001b[39m\u001b[38;5;241m.\u001b[39mRMS(X,D))\n\u001b[0;32m     43\u001b[0m     \u001b[38;5;28mself\u001b[39m\u001b[38;5;241m.\u001b[39mlaccuracy\u001b[38;5;241m.\u001b[39mappend(\u001b[38;5;28mself\u001b[39m\u001b[38;5;241m.\u001b[39maccuracy(X,D))\n\u001b[0;32m     44\u001b[0m     \u001b[38;5;28mprint\u001b[39m(\u001b[38;5;124m'\u001b[39m\u001b[38;5;124m     RMS: \u001b[39m\u001b[38;5;132;01m%6.5f\u001b[39;00m\u001b[38;5;124m'\u001b[39m \u001b[38;5;241m%\u001b[39m \u001b[38;5;28mself\u001b[39m\u001b[38;5;241m.\u001b[39mlRMS[\u001b[38;5;241m-\u001b[39m\u001b[38;5;241m1\u001b[39m])\n",
      "Cell \u001b[1;32mIn[4], line 33\u001b[0m, in \u001b[0;36mMultilayer.RMS\u001b[1;34m(self, X, D)\u001b[0m\n\u001b[0;32m     31\u001b[0m \u001b[38;5;28;01mdef\u001b[39;00m \u001b[38;5;21mRMS\u001b[39m (\u001b[38;5;28mself\u001b[39m, X, D): \u001b[38;5;66;03m# error RMS\u001b[39;00m\n\u001b[0;32m     32\u001b[0m     S \u001b[38;5;241m=\u001b[39m \u001b[38;5;28mself\u001b[39m\u001b[38;5;241m.\u001b[39mforward(X)\n\u001b[1;32m---> 33\u001b[0m     \u001b[38;5;28;01mreturn\u001b[39;00m np\u001b[38;5;241m.\u001b[39mmean(np\u001b[38;5;241m.\u001b[39msqrt(np\u001b[38;5;241m.\u001b[39mmean(np\u001b[38;5;241m.\u001b[39msquare(S\u001b[38;5;241m-\u001b[39mD),axis\u001b[38;5;241m=\u001b[39m\u001b[38;5;241m1\u001b[39m)))\n",
      "\u001b[1;31mTypeError\u001b[0m: unsupported operand type(s) for -: 'NoneType' and 'float'"
     ]
    }
   ],
   "source": [
    "# xor\n",
    "data = np.array([[0.0, 0.0], [0.0, 1.0], [1.0, 0.0], [1.0, 1.0]])\n",
    "labels = np.array([[0.0], [1.0], [1.0], [0.0]])\n",
    "\n",
    "p = Multilayer(2,2,1)\n",
    "\n",
    "p.info(data, labels)"
   ]
  },
  {
   "cell_type": "code",
   "execution_count": 7,
   "metadata": {},
   "outputs": [
    {
     "data": {
      "image/png": "[encoded data removed]",
      "text/plain": [
       "<Figure size 640x480 with 1 Axes>"
      ]
     },
     "metadata": {},
     "output_type": "display_data"
    }
   ],
   "source": [
    "import numpy as np\n",
    "\n",
    "# example data from two classes; 2D normal distributions\n",
    "num = 100\n",
    "x0 = np.random.multivariate_normal([2,2], np.array([[1,0],[0,1]]),num)\n",
    "d0 = np.repeat(0, num)\n",
    "x1 = np.random.multivariate_normal([-2,-2], np.array([[1,0],[0,1]]),num)\n",
    "d1 = np.repeat(1, num)\n",
    "\n",
    "import matplotlib.pyplot as plt\n",
    "plt.xlim(-6,6)\n",
    "plt.ylim(-6,6)\n",
    "plt.plot(x0[:,0],x0[:,1],'o')\n",
    "plt.plot(x1[:,0],x1[:,1],'o')\n",
    "x_line = np.linspace(-6,6,100)\n",
    "y_line = -p.w[0]/p.w[1]*x_line - p.b/p.w[1]\n",
    "plt.xlim(-6,6)\n",
    "plt.ylim(-6,6)\n",
    "plt.plot(x0[:,0],x0[:,1],'o')\n",
    "plt.plot(x1[:,0],x1[:,1],'o')\n",
    "plt.plot(x_line, y_line)\n",
    "\n",
    "plt.show()\n",
    "\n",
    "X = np.vstack((x0,x1))\n",
    "d = np.hstack((d0,d1))\n",
    "d.shape = (200,1) # convierte el vector en un array"
   ]
  },
  {
   "cell_type": "code",
   "execution_count": 6,
   "metadata": {},
   "outputs": [
    {
     "ename": "NameError",
     "evalue": "name 'X' is not defined",
     "output_type": "error",
     "traceback": [
      "\u001b[1;31m---------------------------------------------------------------------------\u001b[0m",
      "\u001b[1;31mNameError\u001b[0m                                 Traceback (most recent call last)",
      "Cell \u001b[1;32mIn[6], line 4\u001b[0m\n\u001b[0;32m      1\u001b[0m \u001b[38;5;66;03m# entrenar\u001b[39;00m\n\u001b[0;32m      3\u001b[0m p \u001b[38;5;241m=\u001b[39m Perceptron(\u001b[38;5;241m2\u001b[39m,\u001b[38;5;241m1\u001b[39m)\n\u001b[1;32m----> 4\u001b[0m p\u001b[38;5;241m.\u001b[39mtrain(X, d, \u001b[38;5;241m0.01\u001b[39m, \u001b[38;5;241m10\u001b[39m, \u001b[38;5;241m1\u001b[39m)\n",
      "\u001b[1;31mNameError\u001b[0m: name 'X' is not defined"
     ]
    }
   ],
   "source": [
    "# entrenar\n",
    "\n",
    "p = Perceptron(2,1)\n",
    "p.train(X, d, 0.01, 10, 1)"
   ]
  },
  {
   "cell_type": "code",
   "execution_count": null,
   "metadata": {},
   "outputs": [],
   "source": [
    "# Dibujar el resultado de la clasificación por el perceptrón"
   ]
  },
  {
   "cell_type": "code",
   "execution_count": 7,
   "metadata": {},
   "outputs": [
    {
     "data": {
      "image/png": "[encoded data removed]",
      "text/plain": [
       "<Figure size 640x480 with 1 Axes>"
      ]
     },
     "metadata": {},
     "output_type": "display_data"
    }
   ],
   "source": [
    "# regiones no lineales\n",
    "\n",
    "X = np.loadtxt('samples/data_3classes_nonlinear_2D.txt')\n",
    "\n",
    "d = X[:,-1].astype('int')\n",
    "X = X[:,:-1]\n",
    "\n",
    "plt.figure()\n",
    "plt.xlim(0,1)\n",
    "plt.ylim(0,1)\n",
    "plt.plot(X[d==0,0],X[d==0,1], 'ro')\n",
    "plt.plot(X[d==1,0],X[d==1,1], 'go')\n",
    "plt.plot(X[d==2,0],X[d==2,1], 'bo')\n",
    "\n",
    "plt.show()\n",
    "\n",
    "no = len(set(d))\n",
    "ni = X.shape[1]\n",
    "\n",
    "d = one_hot(d)"
   ]
  },
  {
   "cell_type": "code",
   "execution_count": null,
   "metadata": {},
   "outputs": [],
   "source": [
    "# entrenar\n",
    "# encontrar arquitectura mínima que aprende este problema, para data_2classes_nonlinear_2D.txt y para data_3classes_nonlinear_2D.txt\n",
    "\n",
    "p = Multilayer(ni,15,no)"
   ]
  },
  {
   "cell_type": "code",
   "execution_count": null,
   "metadata": {},
   "outputs": [],
   "source": [
    "# Dibujar el resultado de la clasificación por el multicapa, comparar con las salidas que debería dar"
   ]
  },
  {
   "cell_type": "code",
   "execution_count": null,
   "metadata": {},
   "outputs": [],
   "source": [
    "# Orquideas\n",
    "\n",
    "X = np.loadtxt('samples/iris.csv', dtype = 'float64', usecols = [0,1,2,3])\n",
    "L = np.loadtxt('samples/iris.csv', dtype = str, usecols = [4]) \n",
    "\n",
    "# convierte la salida a enteros\n",
    "d = []\n",
    "options = ['Iris-setosa', 'Iris-versicolor', 'Iris-virginica']\n",
    "for e in L:\n",
    "    d.append(options.index(e))\n",
    "\n",
    "d = np.array(d)\n",
    "X = np.array(X)\n",
    "\n",
    "d = one_hot(d)\n",
    "\n",
    "ni = X.shape[1]\n",
    "no = len(options)\n",
    "\n",
    "p = Multilayer(ni,40,no)\n",
    "\n",
    "# encontrar arquitectura mínima que aprende este problema"
   ]
  },
  {
   "cell_type": "markdown",
   "metadata": {},
   "source": [
    "### Explicación de los archivos de datos suministrados\n",
    "\n",
    "**Nota**: en caso de que se suministre archivo xxx-trn.txt y xxx-tst.txt, se deberá entrenar con el trn y calcular luego el error de test con el tst. Lógicamente queremos un modelo cuyo error de test sea lo más bajo posible. Si no se suministra archivo de test no es necesario dividir en entrenamiento y test, y lo que se busca es el error más bajo en entrenamiento.\n",
    "\n",
    "#### Aprobados\n",
    "\n",
    "Contiene 3 entradas, correspondiente a la nota en 3 ejercicios, y 1 salida, que indica si el alumno aprobó o no. Se trataría de predecir si un alumno va a aprobar a partir de sus notas. Es un problema de clasificación.\n",
    "\n",
    "Cuestiones: ¿Es un problema lineal? ¿Puede aprenderla una red de neuronas?\n",
    "<li>Parece un problema en el que simplemente habria que calcular los porcentajes a que equivale cada una de las notas sobre la media que es el aprobado o no, con una red de neuronas tendría que ajustar los pesos que correspondería a esos porcentajes.</li>\n",
    "\n",
    "#### Fun\n",
    "\n",
    "Contiene 1 entrada y 1 salida, que son la *x* y la *y* de una función desconocida. Es un problema de ajuste o regresión.\n",
    "\n",
    "Cuestiones: ¿Es una función lineal? ¿Puede aprenderla una red de neuronas? ¿Puede decirnos la red qué función es?\n",
    "\n",
    "#### Morosos\n",
    "\n",
    "Contiene datos de morosidad de un banco. La idea es predecir si un nuevo cliente va a devolver un prestamo o no y utilizar esta predicción para concederle o denegarle el préstamo. Es un problema de clasificación.\n",
    "\n",
    "Tiene 9 entradas y 1 salida.\n",
    "\n",
    "Cuestiones: ¿Es una función lineal? ¿Cuál es el porcentaje de acierto estimado en test?\n",
    "\n",
    "#### Quinielas\n",
    "\n",
    "Contiene datos de quinielas deportivas. Tiene 60 entradas y 3 salidas (1, X, 2). Es un problema de clasificación.\n",
    "\n",
    "Cuestiones: ¿Cuál es el porcentaje de acierto estimado en test?\n",
    "\n",
    "#### Sensores\n",
    "\n",
    "Contiene datos de sensores y velocidades medias en la M-40. La idea es ver si se puede predecir la velocidad media en un punto que no tiene sensor a partir de las lecturas de los sensores en otros puntos. Es un problema de ajuste o regresión.\n",
    "\n",
    "Cuestiones: ¿Cuál es el porcentaje de acierto estimado en test?\n",
    "\n",
    "#### Circulo\n",
    "\n",
    "Es un problema de clasificación con 3 regiones concéntricas. No tiene conjunto de test, el objetivo es encontrar la red mínima que pueda clasificar correctamente todos los ejemplos.\n",
    "\n",
    "#### Encoder\n",
    "\n",
    "Es el problema clásico de utilizar una capa oculta para codificar patrones de 8 valores en una dimensión menor. El objetivo es entrenar un perceptrón 8-3-8 para que aprenda esta codificación en el 100% de los ejemplos.  Es un problema de clasificación.\n",
    "\n",
    "#### Pima-diabetes\n",
    "\n",
    "Contiene resultados de un conjunto de análisis y pruebas en personas que posteriormente desarrollaron o no diabetes. La idea es ver si se puede predecir si una persona va a desarrollar la enfermedad en el futuro.\n",
    "\n",
    "En este caso hay que separar aleatoriamente un 30% de ejemplos para tener una conjunto de test. Nota: se sugiere usar la función shuffle.\n",
    "\n",
    "Cuestiones: ¿Cuál es el porcentaje de acierto estimado en test?"
   ]
  },
  {
   "cell_type": "markdown",
   "metadata": {},
   "source": [
    "### Introducción a pytorch\n",
    "\n",
    "Características:\n",
    "  * Creado por FaceBook en 2017 fusionando las librerías torch y caffe.\n",
    "  * Es de código abierto.\n",
    "  * Incluye computación basada en tensores (similar a numpy) y con soporte de GPU, incluidas NVidia, AMD y Apple silicon.\n",
    "  * Incluye componentes para Redes de Neuronas y Deep Learning, tanto secuenciales como funcionales.\n",
    "\n",
    "Ventajas frente a tensorflow\n",
    " * Mayor comunidad; se adapta más rápido a las nuevas versiones de python.\n",
    " * No propietario, fuentes disponibles.\n",
    " * Soporte a GPU en AMD y Mac Silicon.\n",
    " * La documentación es MUY buena.\n",
    " * Es más claro el proceso de enviar y recibir objetos a la GPU.\n",
    " * Es más eficiente para el aprendizaje por refuerzo.\n",
    " * Ligeramente de más alto nivel que tensorflow, pero por debajo de keras.\n",
    "\n",
    "Desventajas\n",
    "  * No es de tan alto nivel como Keras:\n",
    "    * Requiere la implementación del bucle train.\n",
    "    * Requiere especificar en más detalle la arquitectura secuencial.\n",
    "    * Requiere calcular dentro del train las métricas de validación.\n",
    "    * Requiere mover expresamente los objetos a la GPU.\n",
    "    * Requiere retropropagar expresamente.\n",
    "    * Requiere indicar expresamente cuáles son los tensores sobre los que aplicar descenso del gradiente.\n",
    " \n",
    " Descarga y documentación.  \n",
    " https://pytorch.org\n",
    " \n",
    "#### Módulos relacionados\n",
    "\n",
    "  * torchvision: añade recursos para tratamiento de imágenes, incluyendo modelos preentrenados.\n",
    "  * torchtext: ídem para lenguaje natural.\n",
    "  * torchaudio: ídem para audio.\n",
    "\n",
    "#### Enlaces:\n",
    "\n",
    "  * Tutorial oficial: https://pytorch.org/tutorials/beginner/basics/intro.html\n",
    "  * Tutorial en youtube: https://www.youtube.com/watch?v=QetoD5LXlEg\n",
    "  "
   ]
  },
  {
   "cell_type": "markdown",
   "metadata": {},
   "source": [
    "### Capas básicas en torch.nn:\n",
    "  * De procesamiento (layers)\n",
    "    * Linear\n",
    "    * Conv2d\n",
    "    * ConvTranspose2d\n",
    "    * LSTM\n",
    "    * GRU\n",
    "    * Transformer\n",
    "    * Embeeding\n",
    "  * De activación\n",
    "    * Sigmoid\n",
    "    * Tanh\n",
    "    * ReLU\n",
    "    * LeakyReLU\n",
    "    * Softmax\n",
    "  * Auxiliares\n",
    "    * Dropout\n",
    "    * MaxPool2d\n",
    "    * BatchNorm2d\n",
    "    * LocalResponseNorm\n",
    "    * Flatten"
   ]
  },
  {
   "cell_type": "markdown",
   "metadata": {},
   "source": [
    "### Modelos secuenciales y funcionales\n",
    "\n",
    "Igual que en tensorflow tenemos los dos tipos de modelos. La elección depende del tipo de red que estemos construyendo.\n",
    "\n",
    "#### Modelo secuencial\n",
    "\n",
    "Las capas se van a aplicar secuencialmente una detrás de otra. Podemos especificar las capas en la propia inicialización del modelo Sequential o añadirlas con add_module.\n",
    "  \n",
    "```python\n",
    "self.layers = nn.Sequential(\n",
    "            nn.Linear(ni, nh),\n",
    "            nn.Sigmoid(),\n",
    "            nn.Linear(nh, no)\n",
    "        )\n",
    "```\n",
    "\n",
    "#### Modelo funcional\n",
    "\n",
    "Tenemos que hacer explícito cómo se aplican las capas dentro del forward.\n",
    "\n",
    "```python\n",
    "import torch.functional as F\n",
    "\n",
    "class LeNet(torch.nn.Module):\n",
    "\n",
    "    def __init__(self):\n",
    "        super(LeNet, self).__init__()\n",
    "        # 1 input image channel (black & white), 6 output channels, 5x5 square convolution\n",
    "        # kernel\n",
    "        self.conv1 = torch.nn.Conv2d(1, 6, 5) # in_channels, out_channels, kernel_size,\n",
    "        self.conv2 = torch.nn.Conv2d(6, 16, 3)\n",
    "        # an affine operation: y = Wx + b\n",
    "        self.fc1 = torch.nn.Linear(16 * 6 * 6, 120)  # 6*6 from image dimension\n",
    "        self.fc2 = torch.nn.Linear(120, 84)\n",
    "        self.fc3 = torch.nn.Linear(84, 10)\n",
    "\n",
    "    def forward(self, x):\n",
    "        # Max pooling over a (2, 2) window\n",
    "        x = F.max_pool2d(F.relu(self.conv1(x)), (2, 2))\n",
    "        # If the size is a square you can only specify a single number\n",
    "        x = F.max_pool2d(F.relu(self.conv2(x)), 2)\n",
    "        x = x.view(-1, self.num_flat_features(x)) # view es similar a resize, aunque en ciertas condiciones reshape puede crear copia del tensor\n",
    "        x = F.relu(self.fc1(x))\n",
    "        x = F.relu(self.fc2(x))\n",
    "        x = self.fc3(x)\n",
    "        return x\n",
    "```\n"
   ]
  },
  {
   "cell_type": "markdown",
   "metadata": {},
   "source": [
    "#### Manipulación de tensores: view, reshape, squeeze, unsqueeze\n",
    "\n",
    "  * view: es el método recomendado para cambiar las dimensiones de un tensor.\n",
    "  * reshape: similar pero puede ser menos eficiente.\n",
    "  * unsqueeze: inserta una dimensión de tamaño 1 en la posixión que indiquemos. Por ejemplo torch.unsqueeze(input, dim=1) convierte un vector en una matriz columna.\n",
    "  * squeeze: elimina las dimensiones de longitud 1, o en la dimensión que se indique como argumento."
   ]
  },
  {
   "cell_type": "code",
   "execution_count": null,
   "metadata": {},
   "outputs": [],
   "source": [
    "%pip install torch # instalación"
   ]
  },
  {
   "cell_type": "code",
   "execution_count": 3,
   "metadata": {},
   "outputs": [],
   "source": [
    "import torch\n",
    "\n",
    "def set_device ():\n",
    "    if torch.backends.mps.is_available(): # para usar con mac silicon\n",
    "        device = \"mps\"\n",
    "    elif torch.cuda.is_available():\n",
    "        device = \"cuda\"\n",
    "    else:\n",
    "        device = \"cpu\"\n",
    "    torch.set_default_device(device)\n",
    "    print(f\"Using {torch.device(device)} device\")\n",
    "    return torch.device(device)"
   ]
  },
  {
   "cell_type": "markdown",
   "metadata": {},
   "source": [
    "#### Tarea\n",
    "\n",
    "Obligatorio\n",
    "\n",
    "  * Construir un MLP con pytorch para resolver la XOR.\n",
    "  * Definir la función de trining para entrenarlo.\n",
    "  * Presentar los resultados.\n",
    "\n",
    "Opcional\n",
    "  * Aplicar a los datos suministrados para aproximnar la función seno.\n",
    "  * Modificar y aplicar a algun otro problema de los suministrados.\n",
    "  * Modificar la clase basic_MLP para que admita cualquier número de capas. La arquitectura se especificará con una lista [layer1_size, layer2_size, ...]"
   ]
  },
  {
   "cell_type": "code",
   "execution_count": null,
   "metadata": {},
   "outputs": [],
   "source": [
    "# Define un MLP básico con una sola capa oculta\n",
    "\n",
    "from torch import nn\n",
    "\n",
    "# Define model\n",
    "class basic_MLP (nn.Module):\n",
    "    def __init__(self, ni, nh, no):\n",
    "        super().__init__()\n",
    "        self.layers = nn.Sequential(\n",
    "            # TO-DO\n",
    "        )\n",
    "\n",
    "    def forward(self, x):\n",
    "        output = self.layers(x)\n",
    "        return output"
   ]
  },
  {
   "cell_type": "code",
   "execution_count": 11,
   "metadata": {},
   "outputs": [
    {
     "data": {
      "text/plain": [
       "[<matplotlib.lines.Line2D at 0x1675484d0>]"
      ]
     },
     "execution_count": 11,
     "metadata": {},
     "output_type": "execute_result"
    },
    {
     "data": {
      "image/png": "[encoded data removed]",
      "text/plain": [
       "<Figure size 640x480 with 1 Axes>"
      ]
     },
     "metadata": {},
     "output_type": "display_data"
    }
   ],
   "source": [
    "# Ejemplo, crea datos para y = sin(x)\n",
    "\n",
    "import math\n",
    "import numpy as np\n",
    "\n",
    "x = np.linspace(-math.pi, math.pi, 2000, dtype=np.float32)\n",
    "y = np.sin(x, dtype=np.float32)\n",
    "\n",
    "%matplotlib inline\n",
    "import matplotlib.pyplot as plt\n",
    "\n",
    "plt.plot(x,y)"
   ]
  },
  {
   "cell_type": "code",
   "execution_count": 12,
   "metadata": {},
   "outputs": [
    {
     "name": "stdout",
     "output_type": "stream",
     "text": [
      "Using mps device\n",
      "tensor([ 8.7423e-08, -3.1432e-03, -6.2863e-03,  ...,  6.2863e-03,\n",
      "         3.1432e-03, -8.7423e-08])\n",
      "cpu\n",
      "mps:0\n"
     ]
    }
   ],
   "source": [
    "# convertir tensores numpy a pytorch: torch.from_numpy()\n",
    "# convertir datos torch a numpy: X.cpu().numpy()\n",
    "# enviar datos a la GPU: X.to(device)\n",
    "\n",
    "import torch\n",
    "device = set_device()\n",
    "\n",
    "X = torch.from_numpy(x) # convierte a torch\n",
    "Y = torch.from_numpy(y)\n",
    "\n",
    "print(Y)\n",
    "print(Y.device)\n",
    "\n",
    "Y = Y.to(device) # envía a GPU\n",
    "print(Y.device)"
   ]
  },
  {
   "cell_type": "code",
   "execution_count": 13,
   "metadata": {},
   "outputs": [],
   "source": [
    "def train (X, Y, model, loss_fn, optimizer, epochs=1000, device='cpu', trace=100): # train sin batches\n",
    "    size = len(X)\n",
    "    model = model.to(device)\n",
    "    model.train() # indica que vamos a entrenar\n",
    "    Xg, Yg = X.to(device), Y.to(device)\n",
    "    for e in range(epochs): # bucle de entrenamiento\n",
    "        optimizer.zero_grad() # reset gradients\n",
    "\n",
    "        pred = model(Xg) # propagate\n",
    "        loss = loss_fn(pred, Yg) # prediction error\n",
    "\n",
    "        loss.backward() # back propagation\n",
    "        optimizer.step() # update parameters\n",
    "\n",
    "        if (e+1) % trace == 0: # traces\n",
    "            loss, current = loss.item(), e+1\n",
    "            print(f\"loss: {loss:>7f}  [{current:>5d} /{epochs:>5d}]\")"
   ]
  },
  {
   "cell_type": "code",
   "execution_count": null,
   "metadata": {},
   "outputs": [],
   "source": [
    "# modelo para aprender la función seno\n",
    "\n",
    "model = basic_MLP(1, 500, 1)\n",
    "\n",
    "loss_fn = nn.MSELoss()\n",
    "optimizer = torch.optim.Adam(model.parameters())\n",
    "\n",
    "train(X, Y, model, loss_fn, optimizer, 1000, device=device, trace=100)"
   ]
  }
 ],
 "metadata": {
  "kernelspec": {
   "display_name": "base",
   "language": "python",
   "name": "python3"
  },
  "language_info": {
   "codemirror_mode": {
    "name": "ipython",
    "version": 3
   },
   "file_extension": ".py",
   "mimetype": "text/x-python",
   "name": "python",
   "nbconvert_exporter": "python",
   "pygments_lexer": "ipython3",
   "version": "3.12.7"
  }
 },
 "nbformat": 4,
 "nbformat_minor": 2
}
